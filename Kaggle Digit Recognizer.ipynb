{
 "cells": [
  {
   "cell_type": "code",
   "execution_count": 1,
   "metadata": {},
   "outputs": [
    {
     "name": "stderr",
     "output_type": "stream",
     "text": [
      "Using TensorFlow backend.\n"
     ]
    }
   ],
   "source": [
    "import numpy as np\n",
    "from keras.utils import to_categorical\n",
    "from keras.models import Sequential\n",
    "from keras.layers import Dense, Flatten\n",
    "from keras.optimizers import RMSprop \n",
    "import matplotlib.pyplot as plt"
   ]
  },
  {
   "cell_type": "code",
   "execution_count": 14,
   "metadata": {},
   "outputs": [],
   "source": [
    "#Load the training set, col1 has the labels\n",
    "train = np.genfromtxt(\"all/train4.csv\", delimiter=\",\", skip_header=1, max_rows=10500)\n",
    "x_train = train[:,1:]\n",
    "x_train = x_train.astype('float32')\n",
    "x_train /= 255\n",
    "y_train = train[:,0]\n",
    "Y = to_categorical(y_train)"
   ]
  },
  {
   "cell_type": "code",
   "execution_count": 4,
   "metadata": {},
   "outputs": [
    {
     "data": {
      "image/png": "[encoded data removed]",
      "text/plain": [
       "<Figure size 432x288 with 1 Axes>"
      ]
     },
     "metadata": {
      "needs_background": "light"
     },
     "output_type": "display_data"
    }
   ],
   "source": [
    "plt.hist(y_train, bins=10)\n",
    "plt.show()"
   ]
  },
  {
   "cell_type": "code",
   "execution_count": 5,
   "metadata": {},
   "outputs": [
    {
     "data": {
      "image/png": "[encoded data removed]",
      "text/plain": [
       "<Figure size 432x288 with 1 Axes>"
      ]
     },
     "metadata": {
      "needs_background": "light"
     },
     "output_type": "display_data"
    },
    {
     "name": "stdout",
     "output_type": "stream",
     "text": [
      "[0. 0. 0. 0. 0. 0. 0. 0. 1. 0.]\n"
     ]
    }
   ],
   "source": [
    "i = 20\n",
    "plt.imshow(x_train[i].reshape(28,28),cmap='gray')\n",
    "plt.title(y_train[i])\n",
    "plt.show()\n",
    "print(Y[20])"
   ]
  },
  {
   "cell_type": "code",
   "execution_count": 15,
   "metadata": {},
   "outputs": [
    {
     "name": "stdout",
     "output_type": "stream",
     "text": [
      "_________________________________________________________________\n",
      "Layer (type)                 Output Shape              Param #   \n",
      "=================================================================\n",
      "dense_13 (Dense)             (None, 392)               307720    \n",
      "_________________________________________________________________\n",
      "dense_14 (Dense)             (None, 196)               77028     \n",
      "_________________________________________________________________\n",
      "dense_15 (Dense)             (None, 10)                1970      \n",
      "=================================================================\n",
      "Total params: 386,718\n",
      "Trainable params: 386,718\n",
      "Non-trainable params: 0\n",
      "_________________________________________________________________\n",
      "Epoch 1/20\n",
      "10499/10499 [==============================] - 1s 94us/step - loss: 0.0015 - acc: 0.9999\n",
      "Epoch 2/20\n",
      "10499/10499 [==============================] - 1s 74us/step - loss: 0.0015 - acc: 0.9999\n",
      "Epoch 3/20\n",
      "10499/10499 [==============================] - 1s 77us/step - loss: 0.0015 - acc: 0.9999\n",
      "Epoch 4/20\n",
      "10499/10499 [==============================] - 1s 74us/step - loss: 0.0015 - acc: 0.9999\n",
      "Epoch 5/20\n",
      "10499/10499 [==============================] - 1s 75us/step - loss: 0.0015 - acc: 0.9999\n",
      "Epoch 6/20\n",
      "10499/10499 [==============================] - 1s 73us/step - loss: 0.0015 - acc: 0.9999\n",
      "Epoch 7/20\n",
      "10499/10499 [==============================] - 1s 74us/step - loss: 0.0015 - acc: 0.9999\n",
      "Epoch 8/20\n",
      "10499/10499 [==============================] - 1s 77us/step - loss: 0.0015 - acc: 0.9999\n",
      "Epoch 9/20\n",
      "10499/10499 [==============================] - 1s 73us/step - loss: 0.0015 - acc: 0.9999\n",
      "Epoch 10/20\n",
      "10499/10499 [==============================] - 1s 75us/step - loss: 0.0015 - acc: 0.9999\n",
      "Epoch 11/20\n",
      "10499/10499 [==============================] - 1s 75us/step - loss: 0.0015 - acc: 0.9999\n",
      "Epoch 12/20\n",
      "10499/10499 [==============================] - 1s 74us/step - loss: 0.0015 - acc: 0.9999\n",
      "Epoch 13/20\n",
      "10499/10499 [==============================] - 1s 76us/step - loss: 0.0015 - acc: 0.9999\n",
      "Epoch 14/20\n",
      "10499/10499 [==============================] - 1s 77us/step - loss: 0.0015 - acc: 0.9999\n",
      "Epoch 15/20\n",
      "10499/10499 [==============================] - 1s 74us/step - loss: 0.0015 - acc: 0.9999\n",
      "Epoch 16/20\n",
      "10499/10499 [==============================] - 1s 74us/step - loss: 0.0015 - acc: 0.9999\n",
      "Epoch 17/20\n",
      "10499/10499 [==============================] - 1s 76us/step - loss: 0.0015 - acc: 0.9999\n",
      "Epoch 18/20\n",
      "10499/10499 [==============================] - 1s 77us/step - loss: 0.0015 - acc: 0.9999\n",
      "Epoch 19/20\n",
      "10499/10499 [==============================] - 1s 77us/step - loss: 0.0015 - acc: 0.9999\n",
      "Epoch 20/20\n",
      "10499/10499 [==============================] - 1s 74us/step - loss: 0.0015 - acc: 0.9999\n"
     ]
    }
   ],
   "source": [
    "model = Sequential()\n",
    "model.add(Dense(392, activation='relu', input_shape=(784,)))\n",
    "model.add(Dense(196, activation = 'relu'))\n",
    "model.add(Dense(10, activation='softmax'))\n",
    "\n",
    "model.compile(loss='categorical_crossentropy', \\\n",
    "              optimizer=RMSprop(lr=0.0007, rho=0.9, decay=1e-4),\\\n",
    "              metrics = ['accuracy'])\n",
    "\n",
    "model.summary()\n",
    "\n",
    "model.load_weights('model.h5')\n",
    "model.fit(x_train, Y, epochs = 20, batch_size=128,)\n",
    "model.save_weights('model.h5')\n",
    "#score = model.evaluate(x_test, y_test)\n",
    "#print('Test loss = '+score[0]+'\\nTest accuracy = '+score[1"
   ]
  },
  {
   "cell_type": "code",
   "execution_count": 28,
   "metadata": {},
   "outputs": [],
   "source": [
    "test = np.genfromtxt(\"all/test.csv\", delimiter=\",\", skip_header=1, max_rows=14000, dtype='float32')\n",
    "test /= 255\n",
    "y_hat_1 = model.predict(test)\n",
    "test = np.genfromtxt(\"all/test.csv\", delimiter=\",\", skip_header=14001, max_rows=14000, dtype='float32')\n",
    "test /= 255\n",
    "y_hat_2 = model.predict(test)"
   ]
  },
  {
   "cell_type": "code",
   "execution_count": 29,
   "metadata": {},
   "outputs": [
    {
     "data": {
      "image/png": "[encoded data removed]",
      "text/plain": [
       "<Figure size 432x288 with 1 Axes>"
      ]
     },
     "metadata": {
      "needs_background": "light"
     },
     "output_type": "display_data"
    }
   ],
   "source": [
    "i = 20\n",
    "plt.imshow(test[i].reshape(28,28),cmap='gray')\n",
    "plt.show()"
   ]
  },
  {
   "cell_type": "code",
   "execution_count": 49,
   "metadata": {},
   "outputs": [],
   "source": [
    "logits_1 = np.argmax(y_hat_1, axis=1)\n",
    "logits_2 = np.argmax(y_hat_2, axis=1)\n",
    "Y_hat = np.stack((np.arange(1,28001),np.concatenate((logits_1,logits_2))))\n",
    "np.savetxt('a.txt', Y_hat.T, fmt='%s,%s' ,delimiter=',', header='ImageId,Label', newline='\\n', comments='')"
   ]
  }
 ],
 "metadata": {
  "kernelspec": {
   "display_name": "Python 3",
   "language": "python",
   "name": "python3"
  },
  "language_info": {
   "codemirror_mode": {
    "name": "ipython",
    "version": 3
   },
   "file_extension": ".py",
   "mimetype": "text/x-python",
   "name": "python",
   "nbconvert_exporter": "python",
   "pygments_lexer": "ipython3",
   "version": "3.6.5"
  }
 },
 "nbformat": 4,
 "nbformat_minor": 2
}
